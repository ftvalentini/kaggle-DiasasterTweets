{
  "nbformat": 4,
  "nbformat_minor": 0,
  "metadata": {
    "colab": {
      "name": "01-nn.ipynb",
      "provenance": [],
      "collapsed_sections": []
    },
    "kernelspec": {
      "name": "python3",
      "display_name": "Python 3"
    },
    "accelerator": "GPU"
  },
  "cells": [
    {
      "cell_type": "code",
      "metadata": {
        "id": "9Le-jglsYKk2",
        "colab_type": "code",
        "colab": {}
      },
      "source": [
        "%tensorflow_version 1.x"
      ],
      "execution_count": 0,
      "outputs": []
    },
    {
      "cell_type": "code",
      "metadata": {
        "id": "CB6-ejuyV8Vd",
        "colab_type": "code",
        "colab": {}
      },
      "source": [
        "### In google Colab -- just once: ###\n",
        "# load into Files:\n",
        "  # neural.zip\n",
        "  # data.zip\n",
        "### run: ###\n",
        "# !unzip data.zip\n",
        "# !pip install livelossplot"
      ],
      "execution_count": 0,
      "outputs": []
    },
    {
      "cell_type": "code",
      "metadata": {
        "id": "uyLUfbLEGEb9",
        "colab_type": "code",
        "colab": {
          "base_uri": "https://localhost:8080/",
          "height": 123
        },
        "outputId": "92b5c433-9902-4c58-eee5-a4c4b76d6cbc"
      },
      "source": [
        "!unzip -o neural.zip"
      ],
      "execution_count": 3,
      "outputs": [
        {
          "output_type": "stream",
          "text": [
            "Archive:  neural.zip\n",
            " extracting: neural/__init__.py      \n",
            "  inflating: neural/architectures.py  \n",
            " extracting: neural/core/__init__.py  \n",
            "  inflating: neural/core/helpers.py  \n",
            "  inflating: neural/core/training.py  \n"
          ],
          "name": "stdout"
        }
      ]
    },
    {
      "cell_type": "code",
      "metadata": {
        "id": "O6-2SqfX8wlw",
        "colab_type": "code",
        "colab": {}
      },
      "source": [
        "import pandas as pd\n",
        "import numpy as np\n",
        "\n",
        "import helpers_models as hm\n",
        "\n",
        "from neural.architectures import build_gru\n",
        "from neural.core.training import full_nn"
      ],
      "execution_count": 0,
      "outputs": []
    },
    {
      "cell_type": "code",
      "metadata": {
        "id": "BAdzPXU_evrp",
        "colab_type": "code",
        "colab": {}
      },
      "source": [
        "RUN_SANITY = False\n",
        "NEW_RANDOM_SPLIT = True"
      ],
      "execution_count": 0,
      "outputs": []
    },
    {
      "cell_type": "code",
      "metadata": {
        "id": "yfkq2_8DDRnq",
        "colab_type": "code",
        "colab": {}
      },
      "source": [
        "if NEW_RANDOM_SPLIT:\n",
        "  semilla = np.random.randint(1,9999)\n",
        "else:\n",
        "  semilla = 800\n",
        "rng = np.random.RandomState(semilla)\n",
        "print(semilla)"
      ],
      "execution_count": 0,
      "outputs": []
    },
    {
      "cell_type": "code",
      "metadata": {
        "id": "CN4yULG6AM7X",
        "colab_type": "code",
        "colab": {}
      },
      "source": [
        "datos_raw = hm.read_tagged_data()\n",
        "datos = hm.clean_tagged_data(datos_raw)\n",
        "X = datos['text']\n",
        "y = datos['target']\n",
        "X_train, X_val, y_train, y_val = hm.split_data(X, y, 0.2, rng)"
      ],
      "execution_count": 0,
      "outputs": []
    },
    {
      "cell_type": "code",
      "metadata": {
        "id": "sFbpUNT16P6c",
        "colab_type": "code",
        "colab": {}
      },
      "source": [
        "### GRU sanity check ###\n",
        "if RUN_SANITY:\n",
        "  param_tokenizer = dict(\n",
        "                      vocab_size=None\n",
        "                      ,pad_type='pre'\n",
        "                      ,seq_maxlen=100\n",
        "                      )\n",
        "  param_nn = dict(\n",
        "                        optimizer='adam'\n",
        "                        ,learn_rate=1e-4\n",
        "                        ,l2_strength=0.01\n",
        "                        ,decay_strength=0.0\n",
        "                        ,momentum=None          \n",
        "                        ,embedding_dim=512\n",
        "                  )\n",
        "  param_train = dict(\n",
        "                        epochs=5\n",
        "                        ,batch_size=16\n",
        "                        ,early_stopping_n=999999\n",
        "                        ,decay_factor=0.0\n",
        "                        ,decay_patience_n=999999\n",
        "                        ,sanity_check_n=20\n",
        "                        ,verbose=2\n",
        "                    )\n",
        "  param_sanity = dict(**param_tokenizer, **param_nn, **param_train)\n",
        "  mod_check = hn.full_nn(\n",
        "                hn.build_gru, X_train, y_train, X_val, y_val, **param_sanity\n",
        "                ) "
      ],
      "execution_count": 0,
      "outputs": []
    },
    {
      "cell_type": "code",
      "metadata": {
        "id": "bbbNGTfgAi3P",
        "colab_type": "code",
        "colab": {}
      },
      "source": [
        "# NN parameters\n",
        "param_tokenizer = dict(\n",
        "                      vocab_size=None\n",
        "                      ,pad_type='pre'\n",
        "                      ,seq_maxlen=100\n",
        "                      )\n",
        "param_nn = dict(\n",
        "                      optimizer='adam'\n",
        "                      ,learn_rate=1e-5\n",
        "                      ,l2_strength=0.01\n",
        "                      ,decay_strength=0.0\n",
        "                      ,momentum=None          \n",
        "                      ,embedding_dim=512\n",
        "                )\n",
        "param_train = dict(\n",
        "                      epochs=30\n",
        "                      ,batch_size=16\n",
        "                      ,early_stopping_n=10\n",
        "                      ,decay_factor=0.9\n",
        "                      ,decay_patience_n=5\n",
        "                      ,sanity_check_n=None\n",
        "                      ,verbose=2\n",
        "                  )\n",
        "param = dict(**param_tokenizer, **param_nn, **param_train)"
      ],
      "execution_count": 0,
      "outputs": []
    },
    {
      "cell_type": "code",
      "metadata": {
        "colab_type": "code",
        "id": "1xjW7dFDCRbG",
        "colab": {}
      },
      "source": [
        "# Training NN\n",
        "mod = full_nn(build_gru, X_train, y_train, X_val, y_val, **param) "
      ],
      "execution_count": 0,
      "outputs": []
    },
    {
      "cell_type": "code",
      "metadata": {
        "id": "XWMZQJghCTav",
        "colab_type": "code",
        "colab": {}
      },
      "source": [
        "# TODO: save best model con checkpoint into h5 \n",
        "# TODO: chequear que f1-prec-rec funcionan OK"
      ],
      "execution_count": 0,
      "outputs": []
    }
  ]
}