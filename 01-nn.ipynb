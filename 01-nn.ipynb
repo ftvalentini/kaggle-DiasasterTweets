{
 "cells": [
  {
   "cell_type": "code",
   "execution_count": 0,
   "metadata": {
    "colab": {},
    "colab_type": "code",
    "id": "9Le-jglsYKk2"
   },
   "outputs": [],
   "source": [
    "%tensorflow_version 1.x"
   ]
  },
  {
   "cell_type": "code",
   "execution_count": 0,
   "metadata": {
    "colab": {},
    "colab_type": "code",
    "id": "CB6-ejuyV8Vd"
   },
   "outputs": [],
   "source": [
    "### In google Colab -- just once: ###\n",
    "# load into Files:\n",
    "  # neural.zip\n",
    "  # data.zip\n",
    "### run: ###\n",
    "# !unzip data.zip\n",
    "# !pip install livelossplot"
   ]
  },
  {
   "cell_type": "code",
   "execution_count": 3,
   "metadata": {
    "colab": {
     "base_uri": "https://localhost:8080/",
     "height": 123
    },
    "colab_type": "code",
    "id": "uyLUfbLEGEb9",
    "outputId": "92b5c433-9902-4c58-eee5-a4c4b76d6cbc"
   },
   "outputs": [
    {
     "name": "stdout",
     "output_type": "stream",
     "text": [
      "Archive:  neural.zip\n",
      " extracting: neural/__init__.py      \n",
      "  inflating: neural/architectures.py  \n",
      " extracting: neural/core/__init__.py  \n",
      "  inflating: neural/core/helpers.py  \n",
      "  inflating: neural/core/training.py  \n"
     ]
    }
   ],
   "source": [
    "!unzip -o neural.zip"
   ]
  },
  {
   "cell_type": "code",
   "execution_count": 0,
   "metadata": {
    "colab": {},
    "colab_type": "code",
    "id": "O6-2SqfX8wlw"
   },
   "outputs": [],
   "source": [
    "import pandas as pd\n",
    "import numpy as np\n",
    "\n",
    "import helpers_models as hm\n",
    "\n",
    "from neural.architectures import build_gru\n",
    "from neural.core.training import full_nn"
   ]
  },
  {
   "cell_type": "code",
   "execution_count": 0,
   "metadata": {
    "colab": {},
    "colab_type": "code",
    "id": "BAdzPXU_evrp"
   },
   "outputs": [],
   "source": [
    "RUN_SANITY = False\n",
    "NEW_RANDOM_SPLIT = True"
   ]
  },
  {
   "cell_type": "code",
   "execution_count": 0,
   "metadata": {
    "colab": {},
    "colab_type": "code",
    "id": "yfkq2_8DDRnq"
   },
   "outputs": [],
   "source": [
    "if NEW_RANDOM_SPLIT:\n",
    "  semilla = np.random.randint(1,9999)\n",
    "else:\n",
    "  semilla = 800\n",
    "rng = np.random.RandomState(semilla)\n",
    "print(semilla)"
   ]
  },
  {
   "cell_type": "code",
   "execution_count": 0,
   "metadata": {
    "colab": {},
    "colab_type": "code",
    "id": "CN4yULG6AM7X"
   },
   "outputs": [],
   "source": [
    "datos_raw = hm.read_tagged_data()\n",
    "datos = hm.clean_tagged_data(datos_raw)\n",
    "X = datos['text']\n",
    "y = datos['target']\n",
    "X_train, X_val, y_train, y_val = hm.split_data(X, y, 0.2, rng)"
   ]
  },
  {
   "cell_type": "code",
   "execution_count": 0,
   "metadata": {
    "colab": {},
    "colab_type": "code",
    "id": "sFbpUNT16P6c"
   },
   "outputs": [],
   "source": [
    "### GRU sanity check ###\n",
    "if RUN_SANITY:\n",
    "  param_tokenizer = dict(\n",
    "                      vocab_size=None\n",
    "                      ,pad_type='pre'\n",
    "                      ,seq_maxlen=100\n",
    "                      )\n",
    "  param_nn = dict(\n",
    "                        optimizer='adam'\n",
    "                        ,learn_rate=1e-4\n",
    "                        ,l2_strength=0.01\n",
    "                        ,decay_strength=0.0\n",
    "                        ,momentum=None          \n",
    "                        ,embedding_dim=512\n",
    "                        ,initializer='he_uniform'  \n",
    "                  )\n",
    "  param_train = dict(\n",
    "                        epochs=5\n",
    "                        ,batch_size=16\n",
    "                        ,early_stopping_n=999999\n",
    "                        ,decay_factor=0.0\n",
    "                        ,decay_patience_n=999999\n",
    "                        ,sanity_check_n=20\n",
    "                        ,verbose=2\n",
    "                    )\n",
    "  param_sanity = dict(**param_tokenizer, **param_nn, **param_train)\n",
    "  mod_check = full_nn(\n",
    "                build_gru, X_train, y_train, X_val, y_val, **param_sanity\n",
    "                ) "
   ]
  },
  {
   "cell_type": "code",
   "execution_count": 0,
   "metadata": {
    "colab": {},
    "colab_type": "code",
    "id": "bbbNGTfgAi3P"
   },
   "outputs": [],
   "source": [
    "# NN parameters\n",
    "param_tokenizer = dict(\n",
    "                      vocab_size=None\n",
    "                      ,pad_type='pre'\n",
    "                      ,seq_maxlen=100\n",
    "                      )\n",
    "param_nn = dict(\n",
    "                      optimizer='adam'\n",
    "                      ,learn_rate=1e-5\n",
    "                      ,l2_strength=0.01\n",
    "                      ,decay_strength=0.0\n",
    "                      ,momentum=None          \n",
    "                      ,embedding_dim=512\n",
    "                      ,initializer='he_uniform'\n",
    "                )\n",
    "param_train = dict(\n",
    "                      epochs=30\n",
    "                      ,batch_size=16\n",
    "                      ,early_stopping_n=10\n",
    "                      ,decay_factor=0.9\n",
    "                      ,decay_patience_n=5\n",
    "                      ,sanity_check_n=None\n",
    "                      ,verbose=2\n",
    "                  )\n",
    "param = dict(**param_tokenizer, **param_nn, **param_train)"
   ]
  },
  {
   "cell_type": "code",
   "execution_count": 0,
   "metadata": {
    "colab": {},
    "colab_type": "code",
    "id": "1xjW7dFDCRbG"
   },
   "outputs": [],
   "source": [
    "# Training NN\n",
    "mod = full_nn(build_gru, X_train, y_train, X_val, y_val, **param) "
   ]
  },
  {
   "cell_type": "code",
   "execution_count": 0,
   "metadata": {
    "colab": {},
    "colab_type": "code",
    "id": "XWMZQJghCTav"
   },
   "outputs": [],
   "source": [
    "# Agregar RandonSearch (o bayesian para los aventureros)"
   ]
  }
 ],
 "metadata": {
  "accelerator": "GPU",
  "colab": {
   "collapsed_sections": [],
   "name": "01-nn.ipynb",
   "provenance": []
  },
  "kernelspec": {
   "display_name": "Python 3",
   "language": "python",
   "name": "python3"
  },
  "language_info": {
   "codemirror_mode": {
    "name": "ipython",
    "version": 3
   },
   "file_extension": ".py",
   "mimetype": "text/x-python",
   "name": "python",
   "nbconvert_exporter": "python",
   "pygments_lexer": "ipython3",
   "version": "3.7.4"
  }
 },
 "nbformat": 4,
 "nbformat_minor": 1
}
