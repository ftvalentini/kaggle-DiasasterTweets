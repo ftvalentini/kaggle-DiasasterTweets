{
 "cells": [
  {
   "cell_type": "code",
   "execution_count": 3,
   "metadata": {
    "colab": {
     "base_uri": "https://localhost:8080/",
     "height": 129
    },
    "colab_type": "code",
    "executionInfo": {
     "elapsed": 20449,
     "status": "ok",
     "timestamp": 1581474892669,
     "user": {
      "displayName": "Franco Betteo",
      "photoUrl": "",
      "userId": "14302285977517936642"
     },
     "user_tz": 180
    },
    "id": "vPETYE6mMlJk",
    "outputId": "fbc532a0-f6bc-4585-b3af-ec7eceeb0ffb"
   },
   "outputs": [
    {
     "name": "stdout",
     "output_type": "stream",
     "text": [
      "Go to this URL in a browser: https://accounts.google.com/o/oauth2/auth?client_id=947318989803-6bn6qk8qdgf4n4g3pfee6491hc0brc4i.apps.googleusercontent.com&redirect_uri=urn%3aietf%3awg%3aoauth%3a2.0%3aoob&response_type=code&scope=email%20https%3a%2f%2fwww.googleapis.com%2fauth%2fdocs.test%20https%3a%2f%2fwww.googleapis.com%2fauth%2fdrive%20https%3a%2f%2fwww.googleapis.com%2fauth%2fdrive.photos.readonly%20https%3a%2f%2fwww.googleapis.com%2fauth%2fpeopleapi.readonly\n",
      "\n",
      "Enter your authorization code:\n",
      "··········\n",
      "Mounted at /content/gdrive\n"
     ]
    }
   ],
   "source": [
    "\n",
    "from google.colab import drive\n",
    "\n",
    "drive.mount('/content/gdrive')"
   ]
  },
  {
   "cell_type": "code",
   "execution_count": 4,
   "metadata": {
    "colab": {
     "base_uri": "https://localhost:8080/",
     "height": 83
    },
    "colab_type": "code",
    "executionInfo": {
     "elapsed": 2953,
     "status": "ok",
     "timestamp": 1581474897792,
     "user": {
      "displayName": "Franco Betteo",
      "photoUrl": "",
      "userId": "14302285977517936642"
     },
     "user_tz": 180
    },
    "id": "7gFBp3QKNogV",
    "outputId": "57de0c68-803f-4410-bda9-04c4460af857"
   },
   "outputs": [
    {
     "name": "stderr",
     "output_type": "stream",
     "text": [
      "Using TensorFlow backend.\n"
     ]
    },
    {
     "data": {
      "text/html": [
       "<p style=\"color: red;\">\n",
       "The default version of TensorFlow in Colab will soon switch to TensorFlow 2.x.<br>\n",
       "We recommend you <a href=\"https://www.tensorflow.org/guide/migrate\" target=\"_blank\">upgrade</a> now \n",
       "or ensure your notebook will continue to use TensorFlow 1.x via the <code>%tensorflow_version 1.x</code> magic:\n",
       "<a href=\"https://colab.research.google.com/notebooks/tensorflow_version.ipynb\" target=\"_blank\">more info</a>.</p>\n"
      ],
      "text/plain": [
       "<IPython.core.display.HTML object>"
      ]
     },
     "metadata": {
      "tags": []
     },
     "output_type": "display_data"
    }
   ],
   "source": [
    "import pandas as pd\n",
    "import numpy as np\n",
    "import re\n",
    "from sklearn.model_selection import train_test_split\n",
    "import matplotlib.pylab as plt\n",
    "from sklearn.metrics import f1_score\n",
    "\n",
    "from nltk import word_tokenize, sent_tokenize\n",
    "import nltk\n",
    "# nltk.download('punkt')\n",
    "\n",
    "from sklearn.feature_extraction.text import CountVectorizer, TfidfVectorizer\n",
    "\n",
    "# from gensim.models.word2vec import Word2Vec\n",
    "# from gensim.models import KeyedVectors\n",
    "\n",
    "# Keras\n",
    "from keras.preprocessing.text import Tokenizer\n",
    "from keras.preprocessing.sequence import pad_sequences\n",
    "from keras.models import Sequential\n",
    "from keras.layers import Dense, Flatten, LSTM, Conv1D, MaxPooling1D, Dropout, Activation, GlobalMaxPooling1D, Bidirectional, GRU, CuDNNGRU\n",
    "from keras.layers.embeddings import Embedding"
   ]
  },
  {
   "cell_type": "code",
   "execution_count": 0,
   "metadata": {
    "colab": {},
    "colab_type": "code",
    "id": "nclPg2gSNstP"
   },
   "outputs": [],
   "source": [
    "datos = pd.read_csv('/content/gdrive/My Drive/train.csv')\n",
    "X = datos['text']\n",
    "y = datos['target']"
   ]
  },
  {
   "cell_type": "code",
   "execution_count": 0,
   "metadata": {
    "colab": {},
    "colab_type": "code",
    "id": "7q7Z4AhuTrmb"
   },
   "outputs": [],
   "source": [
    "X_train, X_val, y_train, y_val = train_test_split(X, y, test_size=0.2, random_state=1)"
   ]
  },
  {
   "cell_type": "code",
   "execution_count": 55,
   "metadata": {
    "colab": {
     "base_uri": "https://localhost:8080/",
     "height": 54
    },
    "colab_type": "code",
    "executionInfo": {
     "elapsed": 785,
     "status": "ok",
     "timestamp": 1581477107771,
     "user": {
      "displayName": "Franco Betteo",
      "photoUrl": "",
      "userId": "14302285977517936642"
     },
     "user_tz": 180
    },
    "id": "TQCXQNpdOI-l",
    "outputId": "8801bde7-b03b-45c9-d910-e5e0ac5017cc"
   },
   "outputs": [
    {
     "name": "stdout",
     "output_type": "stream",
     "text": [
      "[296, 15, 255, 26, 4, 62, 7, 50, 402, 539, 4, 237, 181]\n",
      "[14, 305, 14, 533, 20, 284, 4, 14, 136, 44, 537, 21, 207, 810, 7, 313, 7, 223, 165, 190, 5]\n"
     ]
    }
   ],
   "source": [
    "vocab_size = 1000+1 # Adding 1 because of reserved 0 index\n",
    "tokenizer = Tokenizer(num_words=vocab_size-1)\n",
    "tokenizer.fit_on_texts(X)\n",
    "X_train = tokenizer.texts_to_sequences(X_train)\n",
    "X_val = tokenizer.texts_to_sequences(X_val)\n",
    "\n",
    "print(X_train[2])\n",
    "print(X_val[3])"
   ]
  },
  {
   "cell_type": "code",
   "execution_count": 0,
   "metadata": {
    "colab": {},
    "colab_type": "code",
    "id": "CfdCJ7TCOVle"
   },
   "outputs": [],
   "source": [
    "maxlen=200\n",
    "X_train_padded = pad_sequences(X_train,padding='post',maxlen=maxlen)\n",
    "X_val_padded   = pad_sequences(X_val, padding = 'post', maxlen = maxlen)"
   ]
  },
  {
   "cell_type": "code",
   "execution_count": 0,
   "metadata": {
    "colab": {},
    "colab_type": "code",
    "id": "jhSaXmuUOaW2"
   },
   "outputs": [],
   "source": [
    "embedding_dim = 300\n",
    "\n",
    "model = Sequential()\n",
    "model.add(Embedding(vocab_size, embedding_dim, input_length=maxlen))\n",
    "model.add(CuDNNGRU(128))\n",
    "model.add(Dense(10, activation='relu'))\n",
    "model.add(Dense(10, activation='relu'))\n",
    "model.add(Dense(1, activation='relu'))\n",
    "model.compile(optimizer='adam', loss='binary_crossentropy',  metrics=['accuracy'])"
   ]
  },
  {
   "cell_type": "code",
   "execution_count": 58,
   "metadata": {
    "colab": {
     "base_uri": "https://localhost:8080/",
     "height": 219
    },
    "colab_type": "code",
    "executionInfo": {
     "elapsed": 15975,
     "status": "ok",
     "timestamp": 1581477132550,
     "user": {
      "displayName": "Franco Betteo",
      "photoUrl": "",
      "userId": "14302285977517936642"
     },
     "user_tz": 180
    },
    "id": "YlmOIjVlOaxM",
    "outputId": "1e105f8c-6709-460e-c210-e69fa497ebb4"
   },
   "outputs": [
    {
     "name": "stdout",
     "output_type": "stream",
     "text": [
      "Train on 6090 samples, validate on 1523 samples\n",
      "Epoch 1/5\n",
      "6090/6090 [==============================] - 5s 750us/step - loss: 6.9607 - acc: 0.5681 - val_loss: 6.7838 - val_acc: 0.5791\n",
      "Epoch 2/5\n",
      "6090/6090 [==============================] - 3s 434us/step - loss: 6.9607 - acc: 0.5681 - val_loss: 6.7838 - val_acc: 0.5791\n",
      "Epoch 3/5\n",
      "6090/6090 [==============================] - 3s 430us/step - loss: 6.9607 - acc: 0.5681 - val_loss: 6.7838 - val_acc: 0.5791\n",
      "Epoch 4/5\n",
      "6090/6090 [==============================] - 3s 421us/step - loss: 6.9607 - acc: 0.5681 - val_loss: 6.7838 - val_acc: 0.5791\n",
      "Epoch 5/5\n",
      "6090/6090 [==============================] - 3s 443us/step - loss: 6.9607 - acc: 0.5681 - val_loss: 6.7838 - val_acc: 0.5791\n"
     ]
    }
   ],
   "source": [
    "# train\n",
    "history = model.fit(X_train_padded, y_train,batch_size=30, epochs=5,validation_data=(X_val_padded, y_val)) "
   ]
  },
  {
   "cell_type": "code",
   "execution_count": 0,
   "metadata": {
    "colab": {},
    "colab_type": "code",
    "id": "Vo_Li3D6TEA4"
   },
   "outputs": [],
   "source": [
    "embedding_dim = 200\n",
    "model_bigru = Sequential()\n",
    "model_bigru.add(Embedding(vocab_size, embedding_dim, input_length=maxlen))\n",
    "model_bigru.add(Bidirectional(CuDNNGRU(128, return_sequences = True)))\n",
    "model_bigru.add(Bidirectional(CuDNNGRU(128)))\n",
    "model_bigru.add(Dense(10, activation='relu'))\n",
    "model_bigru.add(Dense(10, activation='relu'))\n",
    "model_bigru.add(Dense(1, activation='sigmoid'))\n",
    "model_bigru.compile(optimizer='adam', loss='binary_crossentropy',  metrics=['accuracy'])"
   ]
  },
  {
   "cell_type": "code",
   "execution_count": 60,
   "metadata": {
    "colab": {
     "base_uri": "https://localhost:8080/",
     "height": 586
    },
    "colab_type": "code",
    "executionInfo": {
     "elapsed": 62644,
     "status": "ok",
     "timestamp": 1581477228586,
     "user": {
      "displayName": "Franco Betteo",
      "photoUrl": "",
      "userId": "14302285977517936642"
     },
     "user_tz": 180
    },
    "id": "GjHHFfC0TGS6",
    "outputId": "65a582d5-c9c8-4223-e258-0afd8cee7829"
   },
   "outputs": [
    {
     "name": "stdout",
     "output_type": "stream",
     "text": [
      "Train on 6090 samples, validate on 1523 samples\n",
      "Epoch 1/15\n",
      "6090/6090 [==============================] - 6s 1ms/step - loss: 0.5701 - acc: 0.6883 - val_loss: 0.4632 - val_acc: 0.7978\n",
      "Epoch 2/15\n",
      "6090/6090 [==============================] - 4s 639us/step - loss: 0.4192 - acc: 0.8159 - val_loss: 0.4520 - val_acc: 0.7971\n",
      "Epoch 3/15\n",
      "6090/6090 [==============================] - 4s 644us/step - loss: 0.3751 - acc: 0.8414 - val_loss: 0.4720 - val_acc: 0.7866\n",
      "Epoch 4/15\n",
      "6090/6090 [==============================] - 4s 643us/step - loss: 0.3508 - acc: 0.8580 - val_loss: 0.4891 - val_acc: 0.7886\n",
      "Epoch 5/15\n",
      "6090/6090 [==============================] - 4s 643us/step - loss: 0.3343 - acc: 0.8649 - val_loss: 0.5219 - val_acc: 0.7925\n",
      "Epoch 6/15\n",
      "6090/6090 [==============================] - 4s 642us/step - loss: 0.3058 - acc: 0.8862 - val_loss: 0.5368 - val_acc: 0.7787\n",
      "Epoch 7/15\n",
      "6090/6090 [==============================] - 4s 650us/step - loss: 0.2913 - acc: 0.8924 - val_loss: 0.5551 - val_acc: 0.7748\n",
      "Epoch 8/15\n",
      "6090/6090 [==============================] - 4s 651us/step - loss: 0.2759 - acc: 0.9016 - val_loss: 0.5987 - val_acc: 0.7859\n",
      "Epoch 9/15\n",
      "6090/6090 [==============================] - 4s 645us/step - loss: 0.2602 - acc: 0.9092 - val_loss: 0.6018 - val_acc: 0.7702\n",
      "Epoch 10/15\n",
      "6090/6090 [==============================] - 4s 648us/step - loss: 0.2524 - acc: 0.9143 - val_loss: 0.6348 - val_acc: 0.7748\n",
      "Epoch 11/15\n",
      "6090/6090 [==============================] - 4s 643us/step - loss: 0.2263 - acc: 0.9258 - val_loss: 0.6601 - val_acc: 0.7695\n",
      "Epoch 12/15\n",
      "6090/6090 [==============================] - 4s 634us/step - loss: 0.2170 - acc: 0.9296 - val_loss: 0.6883 - val_acc: 0.7715\n",
      "Epoch 13/15\n",
      "6090/6090 [==============================] - 4s 636us/step - loss: 0.2078 - acc: 0.9343 - val_loss: 0.7295 - val_acc: 0.7689\n",
      "Epoch 14/15\n",
      "6090/6090 [==============================] - 4s 635us/step - loss: 0.2005 - acc: 0.9360 - val_loss: 0.6584 - val_acc: 0.7702\n",
      "Epoch 15/15\n",
      "6090/6090 [==============================] - 4s 641us/step - loss: 0.1857 - acc: 0.9437 - val_loss: 0.7051 - val_acc: 0.7853\n"
     ]
    }
   ],
   "source": [
    "history = model_bigru.fit(X_train_padded, y_train ,batch_size=100, epochs=15, validation_data=(X_val_padded, y_val)) "
   ]
  }
 ],
 "metadata": {
  "accelerator": "GPU",
  "colab": {
   "authorship_tag": "ABX9TyNW7Y5liWrgdfpAiHdFWLrn",
   "collapsed_sections": [],
   "name": "Untitled0.ipynb",
   "provenance": []
  },
  "kernelspec": {
   "display_name": "Python 3",
   "language": "python",
   "name": "python3"
  },
  "language_info": {
   "codemirror_mode": {
    "name": "ipython",
    "version": 3
   },
   "file_extension": ".py",
   "mimetype": "text/x-python",
   "name": "python",
   "nbconvert_exporter": "python",
   "pygments_lexer": "ipython3",
   "version": "3.7.4"
  }
 },
 "nbformat": 4,
 "nbformat_minor": 1
}
