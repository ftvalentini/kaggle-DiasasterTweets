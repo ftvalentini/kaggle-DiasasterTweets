{
  "nbformat": 4,
  "nbformat_minor": 0,
  "metadata": {
    "accelerator": "GPU",
    "colab": {
      "name": "RNN_GridSearch.ipynb",
      "provenance": [],
      "collapsed_sections": []
    },
    "kernelspec": {
      "display_name": "Python 3",
      "language": "python",
      "name": "python3"
    },
    "language_info": {
      "codemirror_mode": {
        "name": "ipython",
        "version": 3
      },
      "file_extension": ".py",
      "mimetype": "text/x-python",
      "name": "python",
      "nbconvert_exporter": "python",
      "pygments_lexer": "ipython3",
      "version": "3.7.4"
    }
  },
  "cells": [
    {
      "cell_type": "code",
      "metadata": {
        "colab_type": "code",
        "id": "vPETYE6mMlJk",
        "outputId": "65b62b84-4022-43f2-85ed-4807587c8926",
        "colab": {
          "base_uri": "https://localhost:8080/",
          "height": 129
        }
      },
      "source": [
        "\n",
        "from google.colab import drive\n",
        "\n",
        "drive.mount('/content/gdrive')\n"
      ],
      "execution_count": 3,
      "outputs": [
        {
          "output_type": "stream",
          "text": [
            "Go to this URL in a browser: https://accounts.google.com/o/oauth2/auth?client_id=947318989803-6bn6qk8qdgf4n4g3pfee6491hc0brc4i.apps.googleusercontent.com&redirect_uri=urn%3aietf%3awg%3aoauth%3a2.0%3aoob&response_type=code&scope=email%20https%3a%2f%2fwww.googleapis.com%2fauth%2fdocs.test%20https%3a%2f%2fwww.googleapis.com%2fauth%2fdrive%20https%3a%2f%2fwww.googleapis.com%2fauth%2fdrive.photos.readonly%20https%3a%2f%2fwww.googleapis.com%2fauth%2fpeopleapi.readonly\n",
            "\n",
            "Enter your authorization code:\n",
            "··········\n",
            "Mounted at /content/gdrive\n"
          ],
          "name": "stdout"
        }
      ]
    },
    {
      "cell_type": "code",
      "metadata": {
        "id": "aNbNank86KL3",
        "colab_type": "code",
        "colab": {}
      },
      "source": [
        "import sys\n",
        "sys.path.append('/content/gdrive/My Drive')\n",
        "\n",
        "\n",
        "\n"
      ],
      "execution_count": 0,
      "outputs": []
    },
    {
      "cell_type": "code",
      "metadata": {
        "id": "47shxvf8lUOz",
        "colab_type": "code",
        "colab": {}
      },
      "source": [
        "import helpers_strings as hs"
      ],
      "execution_count": 0,
      "outputs": []
    },
    {
      "cell_type": "code",
      "metadata": {
        "colab_type": "code",
        "id": "7gFBp3QKNogV",
        "outputId": "4b801237-94bd-4b3a-865c-2d40832d565c",
        "colab": {
          "base_uri": "https://localhost:8080/",
          "height": 83
        }
      },
      "source": [
        "import pandas as pd\n",
        "import numpy as np\n",
        "import re\n",
        "from sklearn.model_selection import train_test_split, GridSearchCV\n",
        "import matplotlib.pylab as plt\n",
        "from sklearn.metrics import f1_score\n",
        "\n",
        "from nltk import word_tokenize, sent_tokenize\n",
        "import nltk\n",
        "# nltk.download('punkt')\n",
        "\n",
        "from sklearn.feature_extraction.text import CountVectorizer, TfidfVectorizer\n",
        "\n",
        "# from gensim.models.word2vec import Word2Vec\n",
        "# from gensim.models import KeyedVectors\n",
        "\n",
        "# Keras\n",
        "from keras.preprocessing.text import Tokenizer\n",
        "from keras.preprocessing.sequence import pad_sequences\n",
        "from keras.models import Sequential\n",
        "from keras.layers import Dense, Flatten, LSTM, Conv1D, MaxPooling1D, Dropout, Activation, GlobalMaxPooling1D, Bidirectional, GRU, CuDNNGRU, TimeDistributed, CuDNNLSTM\n",
        "from keras.layers.embeddings import Embedding\n",
        "from keras.optimizers import Adam\n",
        "from keras.wrappers.scikit_learn import KerasClassifier\n"
      ],
      "execution_count": 6,
      "outputs": [
        {
          "output_type": "stream",
          "text": [
            "Using TensorFlow backend.\n"
          ],
          "name": "stderr"
        },
        {
          "output_type": "display_data",
          "data": {
            "text/html": [
              "<p style=\"color: red;\">\n",
              "The default version of TensorFlow in Colab will soon switch to TensorFlow 2.x.<br>\n",
              "We recommend you <a href=\"https://www.tensorflow.org/guide/migrate\" target=\"_blank\">upgrade</a> now \n",
              "or ensure your notebook will continue to use TensorFlow 1.x via the <code>%tensorflow_version 1.x</code> magic:\n",
              "<a href=\"https://colab.research.google.com/notebooks/tensorflow_version.ipynb\" target=\"_blank\">more info</a>.</p>\n"
            ],
            "text/plain": [
              "<IPython.core.display.HTML object>"
            ]
          },
          "metadata": {
            "tags": []
          }
        }
      ]
    },
    {
      "cell_type": "code",
      "metadata": {
        "id": "qsIs5C16TmM-",
        "colab_type": "code",
        "colab": {}
      },
      "source": [
        "from keras.layers import Input\n",
        "from keras.models import Model"
      ],
      "execution_count": 0,
      "outputs": []
    },
    {
      "cell_type": "code",
      "metadata": {
        "colab_type": "code",
        "id": "nclPg2gSNstP",
        "colab": {}
      },
      "source": [
        "datos = pd.read_csv('/content/gdrive/My Drive/train.csv')\n",
        "X = datos['text']\n",
        "y = datos['target']"
      ],
      "execution_count": 0,
      "outputs": []
    },
    {
      "cell_type": "code",
      "metadata": {
        "id": "HReKYnwA9O2a",
        "colab_type": "code",
        "outputId": "5548830c-a5e7-4ca6-93c5-7d5dc13e4862",
        "colab": {
          "base_uri": "https://localhost:8080/",
          "height": 54
        }
      },
      "source": [
        "X_train, X_val, y_train, y_val = train_test_split(X, y, test_size=2, random_state=1)\n",
        "\n",
        "X_train = pd.Series([hs.full_clean_text(t) for t in X_train])\n",
        "X_val = pd.Series([hs.full_clean_text(t) for t in X_val])\n",
        "\n",
        "vocab_size = 1000+1 # Adding 1 because of reserved 0 index\n",
        "tokenizer = Tokenizer(num_words= vocab_size)\n",
        "tokenizer.fit_on_texts(X)\n",
        "X_train = tokenizer.texts_to_sequences(X_train)\n",
        "X_val = tokenizer.texts_to_sequences(X_val)\n",
        "\n",
        "print(X_train[2])\n",
        "print(X_val[1])"
      ],
      "execution_count": 10,
      "outputs": [
        {
          "output_type": "stream",
          "text": [
            "[6, 15, 258, 512, 61, 42, 36]\n",
            "[4, 428, 49, 222, 237, 6, 4, 8]\n"
          ],
          "name": "stdout"
        }
      ]
    },
    {
      "cell_type": "code",
      "metadata": {
        "colab_type": "code",
        "id": "CfdCJ7TCOVle",
        "outputId": "3c6b2e85-bc49-4613-aeae-59483551bf71",
        "colab": {
          "base_uri": "https://localhost:8080/",
          "height": 35
        }
      },
      "source": [
        "maxlen=280\n",
        "X_train_padded = pad_sequences(X_train,padding ='post',  maxlen = maxlen)\n",
        "X_val_padded   = pad_sequences(X_val, padding = 'post', maxlen = maxlen)\n",
        "X_train_padded.shape"
      ],
      "execution_count": 11,
      "outputs": [
        {
          "output_type": "execute_result",
          "data": {
            "text/plain": [
              "(7611, 280)"
            ]
          },
          "metadata": {
            "tags": []
          },
          "execution_count": 11
        }
      ]
    },
    {
      "cell_type": "code",
      "metadata": {
        "id": "3hLmOdqMMaqZ",
        "colab_type": "code",
        "outputId": "c2830e8b-10af-4bca-f28e-533a00a40d30",
        "colab": {
          "base_uri": "https://localhost:8080/",
          "height": 531
        }
      },
      "source": [
        "# Sanity Check\n",
        "sanity_x = X_train_padded[0:20]\n",
        "print(sanity_x)\n",
        "sanity_y = y_train[0:20]\n",
        "print(sanity_y)"
      ],
      "execution_count": 15,
      "outputs": [
        {
          "output_type": "stream",
          "text": [
            "[[746   0   0 ...   0   0   0]\n",
            " [ 14 305  14 ...   0   0   0]\n",
            " [  6  15 258 ...   0   0   0]\n",
            " ...\n",
            " [ 48  14  27 ...   0   0   0]\n",
            " [ 24 889 434 ...   0   0   0]\n",
            " [ 10   4 577 ...   0   0   0]]\n",
            "6957    0\n",
            "2887    0\n",
            "7464    1\n",
            "2539    0\n",
            "6837    1\n",
            "7386    0\n",
            "1506    1\n",
            "1875    0\n",
            "1282    0\n",
            "5389    0\n",
            "1615    0\n",
            "4639    0\n",
            "4536    0\n",
            "4276    0\n",
            "6162    0\n",
            "6233    0\n",
            "1227    1\n",
            "3868    0\n",
            "5770    1\n",
            "4147    0\n",
            "Name: target, dtype: int64\n"
          ],
          "name": "stdout"
        }
      ]
    },
    {
      "cell_type": "code",
      "metadata": {
        "id": "XJ1Unt1NLT0d",
        "colab_type": "code",
        "colab": {}
      },
      "source": [
        "# si pongo el nuevo objeto optimizer en el compile\n",
        "# agarre learn rate del param grid o es solo para parametros de .fit() ?\n",
        "\n",
        "def run_bigru(learn_rate = 0.001, activation_hidden = 'relu', activation_output = 'sigmoid', dropout = 0.2, embedding = 200 ):\n",
        "  optimizer = Adam(lr= learn_rate)\n",
        "  embedding_dim = embedding\n",
        "  model_bigru = Sequential()\n",
        "  model_bigru.add(Embedding(vocab_size, embedding_dim))\n",
        "  model_bigru.add(Bidirectional(CuDNNGRU(256, return_sequences = True)))\n",
        "  model_bigru.add(Bidirectional(CuDNNGRU(256)))\n",
        "  model_bigru.add(Dense(256, activation= activation_hidden))\n",
        "  model_bigru.add(Dense(256, activation= activation_hidden))\n",
        "  model_bigru.add(Dense(256, activation= activation_hidden))\n",
        "  model_bigru.add(Dropout(rate = dropout))\n",
        "  model_bigru.add(Dense(1, activation= activation_output))\n",
        "  model_bigru.compile(optimizer=optimizer, loss='binary_crossentropy',  metrics=['accuracy'])\n",
        "  # if sanity:\n",
        "  #   model_bigru.fit(x,y, batch_size = 1, epochs = 5)\n",
        "  # else:\n",
        "  #   model_bigru.fit(x,y, batch_size = batch_size, epochs = epochs, validation_data= validation_data)\n",
        "  return model_bigru\n"
      ],
      "execution_count": 0,
      "outputs": []
    },
    {
      "cell_type": "code",
      "metadata": {
        "id": "E5BlDkIiLsbb",
        "colab_type": "code",
        "outputId": "abbe6cd8-be35-46db-bd71-d469e186f757",
        "colab": {
          "base_uri": "https://localhost:8080/",
          "height": 202
        }
      },
      "source": [
        "# Sanity Check\n",
        "run_bigru(sanity_x, sanity_y, sanity = True)"
      ],
      "execution_count": 0,
      "outputs": [
        {
          "output_type": "stream",
          "text": [
            "Epoch 1/5\n",
            "20/20 [==============================] - 7s 350ms/step - loss: 0.7067 - acc: 0.3500\n",
            "Epoch 2/5\n",
            "20/20 [==============================] - 0s 25ms/step - loss: 0.6924 - acc: 0.5000\n",
            "Epoch 3/5\n",
            "20/20 [==============================] - 0s 24ms/step - loss: 0.4728 - acc: 0.8500\n",
            "Epoch 4/5\n",
            "20/20 [==============================] - 0s 24ms/step - loss: 0.0015 - acc: 1.0000\n",
            "Epoch 5/5\n",
            "20/20 [==============================] - 0s 25ms/step - loss: 1.7091e-06 - acc: 1.0000\n"
          ],
          "name": "stdout"
        },
        {
          "output_type": "execute_result",
          "data": {
            "text/plain": [
              "<keras.engine.sequential.Sequential at 0x7f74432cdeb8>"
            ]
          },
          "metadata": {
            "tags": []
          },
          "execution_count": 179
        }
      ]
    },
    {
      "cell_type": "code",
      "metadata": {
        "id": "buqRhvP9camO",
        "colab_type": "code",
        "colab": {}
      },
      "source": [
        "keras_bigru = KerasClassifier(build_fn=run_bigru) \n",
        "\n",
        "learn_rate = [0.0001]\n",
        "batch_size = [64]\n",
        "epochs = [3]\n",
        "activation_hidden = ['relu']\n",
        "dropout = [0, 0.5]\n",
        "embedding = [200]\n",
        "\n",
        "param_grid = dict(learn_rate=learn_rate, \n",
        "                  batch_size=batch_size,\n",
        "                  epochs = epochs,\n",
        "                  activation_hidden = activation_hidden,\n",
        "                  dropout = dropout,\n",
        "                  embedding = embedding)\n",
        "\n",
        "grid = GridSearchCV(estimator=keras_bigru, \n",
        "                    param_grid=param_grid,\n",
        "                    cv = 3)\n",
        "\n"
      ],
      "execution_count": 0,
      "outputs": []
    },
    {
      "cell_type": "code",
      "metadata": {
        "id": "5RpysUj7HtCz",
        "colab_type": "code",
        "colab": {
          "base_uri": "https://localhost:8080/",
          "height": 899
        },
        "outputId": "894171a7-83fb-4651-dfbb-a976dac8585f"
      },
      "source": [
        "grid_result = grid.fit(X_train_padded, y_train)\n"
      ],
      "execution_count": 26,
      "outputs": [
        {
          "output_type": "stream",
          "text": [
            "Epoch 1/3\n",
            "5074/5074 [==============================] - 24s 5ms/step - loss: 0.6744 - acc: 0.5788\n",
            "Epoch 2/3\n",
            "5074/5074 [==============================] - 12s 2ms/step - loss: 0.5323 - acc: 0.7527\n",
            "Epoch 3/3\n",
            "5074/5074 [==============================] - 12s 2ms/step - loss: 0.4461 - acc: 0.8013\n",
            "2537/2537 [==============================] - 7s 3ms/step\n",
            "Epoch 1/3\n",
            "5074/5074 [==============================] - 24s 5ms/step - loss: 0.6710 - acc: 0.5820\n",
            "Epoch 2/3\n",
            "5074/5074 [==============================] - 13s 2ms/step - loss: 0.5228 - acc: 0.7584\n",
            "Epoch 3/3\n",
            "5074/5074 [==============================] - 13s 2ms/step - loss: 0.4372 - acc: 0.8043\n",
            "2537/2537 [==============================] - 7s 3ms/step\n",
            "Epoch 1/3\n",
            "5074/5074 [==============================] - 24s 5ms/step - loss: 0.6679 - acc: 0.5871\n",
            "Epoch 2/3\n",
            "5074/5074 [==============================] - 13s 2ms/step - loss: 0.5263 - acc: 0.7507\n",
            "Epoch 3/3\n",
            "5074/5074 [==============================] - 13s 2ms/step - loss: 0.4422 - acc: 0.8009\n",
            "2537/2537 [==============================] - 7s 3ms/step\n",
            "Epoch 1/3\n",
            "5074/5074 [==============================] - 24s 5ms/step - loss: 0.6823 - acc: 0.5591\n",
            "Epoch 2/3\n",
            "5074/5074 [==============================] - 13s 2ms/step - loss: 0.5610 - acc: 0.7304\n",
            "Epoch 3/3\n",
            "5074/5074 [==============================] - 13s 2ms/step - loss: 0.4531 - acc: 0.7972\n",
            "2537/2537 [==============================] - 7s 3ms/step\n",
            "Epoch 1/3\n",
            "5074/5074 [==============================] - 25s 5ms/step - loss: 0.6775 - acc: 0.5792\n",
            "Epoch 2/3\n",
            "5074/5074 [==============================] - 12s 2ms/step - loss: 0.5587 - acc: 0.7353\n",
            "Epoch 3/3\n",
            "5074/5074 [==============================] - 13s 2ms/step - loss: 0.4539 - acc: 0.7929\n",
            "2537/2537 [==============================] - 8s 3ms/step\n",
            "Epoch 1/3\n",
            "5074/5074 [==============================] - 25s 5ms/step - loss: 0.6776 - acc: 0.5769\n",
            "Epoch 2/3\n",
            "5074/5074 [==============================] - 13s 2ms/step - loss: 0.5480 - acc: 0.7408\n",
            "Epoch 3/3\n",
            "5074/5074 [==============================] - 13s 3ms/step - loss: 0.4500 - acc: 0.7952\n",
            "2537/2537 [==============================] - 8s 3ms/step\n",
            "Epoch 1/3\n",
            "7611/7611 [==============================] - 32s 4ms/step - loss: 0.6421 - acc: 0.6253\n",
            "Epoch 2/3\n",
            "7611/7611 [==============================] - 19s 2ms/step - loss: 0.4730 - acc: 0.7835\n",
            "Epoch 3/3\n",
            "7611/7611 [==============================] - 19s 2ms/step - loss: 0.4246 - acc: 0.8107\n"
          ],
          "name": "stdout"
        }
      ]
    },
    {
      "cell_type": "code",
      "metadata": {
        "id": "olo4fAO19UwI",
        "colab_type": "code",
        "colab": {}
      },
      "source": [
        "results = pd.DataFrame(grid_result.cv_results_)"
      ],
      "execution_count": 0,
      "outputs": []
    },
    {
      "cell_type": "code",
      "metadata": {
        "id": "9IDkROel7PbN",
        "colab_type": "code",
        "colab": {
          "base_uri": "https://localhost:8080/",
          "height": 146
        },
        "outputId": "b67669f7-e295-471b-ff0c-82343398b883"
      },
      "source": [
        "print(grid_result.best_score_)\n",
        "grid_result.best_params_"
      ],
      "execution_count": 28,
      "outputs": [
        {
          "output_type": "stream",
          "text": [
            "0.7751937984652751\n"
          ],
          "name": "stdout"
        },
        {
          "output_type": "execute_result",
          "data": {
            "text/plain": [
              "{'activation_hidden': 'relu',\n",
              " 'batch_size': 64,\n",
              " 'dropout': 0,\n",
              " 'embedding': 200,\n",
              " 'epochs': 3,\n",
              " 'learn_rate': 0.0001}"
            ]
          },
          "metadata": {
            "tags": []
          },
          "execution_count": 28
        }
      ]
    },
    {
      "cell_type": "code",
      "metadata": {
        "id": "JgrVguYP9Uuz",
        "colab_type": "code",
        "colab": {}
      },
      "source": [
        "results.to_csv('bigru_cv3.csv')\n",
        "!cp bigru_cv3.csv \"/content/gdrive/My Drive/\""
      ],
      "execution_count": 0,
      "outputs": []
    },
    {
      "cell_type": "code",
      "metadata": {
        "id": "vwyBuYjg9Us1",
        "colab_type": "code",
        "colab": {}
      },
      "source": [
        ""
      ],
      "execution_count": 0,
      "outputs": []
    },
    {
      "cell_type": "code",
      "metadata": {
        "id": "35DMHRRSPs77",
        "colab_type": "code",
        "outputId": "47db23da-a349-421f-be6f-44b3165a337a",
        "colab": {
          "base_uri": "https://localhost:8080/",
          "height": 319
        }
      },
      "source": [
        "# Modelo\n",
        "run_bigru(X_train_padded, y_train, batch_size = 32, epochs= 8, validation_data=(X_val_padded, y_val))"
      ],
      "execution_count": 0,
      "outputs": [
        {
          "output_type": "stream",
          "text": [
            "Train on 6090 samples, validate on 1523 samples\n",
            "Epoch 1/8\n",
            "6090/6090 [==============================] - 18s 3ms/step - loss: 0.5336 - acc: 0.7337 - val_loss: 0.4804 - val_acc: 0.7827\n",
            "Epoch 2/8\n",
            "6090/6090 [==============================] - 11s 2ms/step - loss: 0.4335 - acc: 0.8067 - val_loss: 0.4765 - val_acc: 0.7938\n",
            "Epoch 3/8\n",
            "6090/6090 [==============================] - 11s 2ms/step - loss: 0.3955 - acc: 0.8259 - val_loss: 0.4704 - val_acc: 0.7853\n",
            "Epoch 4/8\n",
            "6090/6090 [==============================] - 11s 2ms/step - loss: 0.3681 - acc: 0.8401 - val_loss: 0.5131 - val_acc: 0.7873\n",
            "Epoch 5/8\n",
            "6090/6090 [==============================] - 11s 2ms/step - loss: 0.3437 - acc: 0.8586 - val_loss: 0.5058 - val_acc: 0.7768\n",
            "Epoch 6/8\n",
            "6090/6090 [==============================] - 11s 2ms/step - loss: 0.3133 - acc: 0.8683 - val_loss: 0.5690 - val_acc: 0.7702\n",
            "Epoch 7/8\n",
            "6090/6090 [==============================] - 11s 2ms/step - loss: 0.2806 - acc: 0.8833 - val_loss: 0.5842 - val_acc: 0.7754\n",
            "Epoch 8/8\n",
            "6090/6090 [==============================] - 11s 2ms/step - loss: 0.2573 - acc: 0.8883 - val_loss: 0.6743 - val_acc: 0.7649\n"
          ],
          "name": "stdout"
        },
        {
          "output_type": "execute_result",
          "data": {
            "text/plain": [
              "<keras.engine.sequential.Sequential at 0x7f7442905668>"
            ]
          },
          "metadata": {
            "tags": []
          },
          "execution_count": 181
        }
      ]
    },
    {
      "cell_type": "code",
      "metadata": {
        "id": "JnDOOWlgUtOM",
        "colab_type": "code",
        "colab": {}
      },
      "source": [
        "learn_rate = 0.001\n",
        "optimizer = Adam(lr= learn_rate)\n",
        "\n",
        "def run_lstm(x,y, batch_size=100, epochs=10, validation_data=(X_val_padded, y_val), sanity = False):  \n",
        "  embedding_dim = 200\n",
        "  model = Sequential()\n",
        "  model.add(Embedding(vocab_size, embedding_dim))\n",
        "  model.add(Bidirectional(CuDNNLSTM(128, return_sequences=True)))\n",
        "  model.add(Bidirectional(CuDNNLSTM(128)))\n",
        "  model.add(Dense(128, activation=\"relu\"))\n",
        "  model.add(Dense(128, activation=\"relu\"))\n",
        "  model.add(Dense(1, activation='sigmoid'))\n",
        "  model.compile(loss='binary_crossentropy', optimizer= optimizer, metrics=['accuracy'])\n",
        "  if sanity:\n",
        "    model.fit(x,y, batch_size = 1, epochs = 5)\n",
        "  else:\n",
        "    model.fit(x,y, batch_size = batch_size, epochs = epochs, validation_data= validation_data)\n",
        "  return model"
      ],
      "execution_count": 0,
      "outputs": []
    },
    {
      "cell_type": "code",
      "metadata": {
        "id": "3y_KnXNQSCzO",
        "colab_type": "code",
        "outputId": "ae2a1b3b-7832-4b69-bd7b-cf0a3f6bbebe",
        "colab": {
          "base_uri": "https://localhost:8080/",
          "height": 202
        }
      },
      "source": [
        "# Sanity Check\n",
        "run_lstm(sanity_x, sanity_y, sanity = True)"
      ],
      "execution_count": 0,
      "outputs": [
        {
          "output_type": "stream",
          "text": [
            "Epoch 1/5\n",
            "20/20 [==============================] - 10s 500ms/step - loss: 0.7014 - acc: 0.3000\n",
            "Epoch 2/5\n",
            "20/20 [==============================] - 1s 30ms/step - loss: 0.6946 - acc: 0.5000\n",
            "Epoch 3/5\n",
            "20/20 [==============================] - 1s 31ms/step - loss: 0.6511 - acc: 0.8000\n",
            "Epoch 4/5\n",
            "20/20 [==============================] - 1s 34ms/step - loss: 0.1036 - acc: 1.0000\n",
            "Epoch 5/5\n",
            "20/20 [==============================] - 1s 34ms/step - loss: 5.5214e-04 - acc: 1.0000\n"
          ],
          "name": "stdout"
        },
        {
          "output_type": "execute_result",
          "data": {
            "text/plain": [
              "<keras.engine.sequential.Sequential at 0x7f743fc4df98>"
            ]
          },
          "metadata": {
            "tags": []
          },
          "execution_count": 220
        }
      ]
    },
    {
      "cell_type": "code",
      "metadata": {
        "id": "cDrn8Qr8Y080",
        "colab_type": "code",
        "outputId": "8dbf223d-d8d3-443f-8e37-d358692ddfd5",
        "colab": {
          "base_uri": "https://localhost:8080/",
          "height": 319
        }
      },
      "source": [
        "# Modelo\n",
        "run_lstm(X_train_padded, y_train, batch_size = 32, epochs= 8, validation_data=(X_val_padded, y_val))"
      ],
      "execution_count": 0,
      "outputs": [
        {
          "output_type": "stream",
          "text": [
            "Train on 6090 samples, validate on 1523 samples\n",
            "Epoch 1/8\n",
            "6090/6090 [==============================] - 25s 4ms/step - loss: 0.5375 - acc: 0.7310 - val_loss: 0.4731 - val_acc: 0.7919\n",
            "Epoch 2/8\n",
            "6090/6090 [==============================] - 13s 2ms/step - loss: 0.4333 - acc: 0.8064 - val_loss: 0.4659 - val_acc: 0.7945\n",
            "Epoch 3/8\n",
            "6090/6090 [==============================] - 13s 2ms/step - loss: 0.4058 - acc: 0.8251 - val_loss: 0.4617 - val_acc: 0.7978\n",
            "Epoch 4/8\n",
            "6090/6090 [==============================] - 13s 2ms/step - loss: 0.3789 - acc: 0.8350 - val_loss: 0.4865 - val_acc: 0.7768\n",
            "Epoch 5/8\n",
            "6090/6090 [==============================] - 13s 2ms/step - loss: 0.3472 - acc: 0.8525 - val_loss: 0.5391 - val_acc: 0.7886\n",
            "Epoch 6/8\n",
            "6090/6090 [==============================] - 13s 2ms/step - loss: 0.3240 - acc: 0.8624 - val_loss: 0.5367 - val_acc: 0.7682\n",
            "Epoch 7/8\n",
            "6090/6090 [==============================] - 13s 2ms/step - loss: 0.2972 - acc: 0.8695 - val_loss: 0.6669 - val_acc: 0.7695\n",
            "Epoch 8/8\n",
            "6090/6090 [==============================] - 13s 2ms/step - loss: 0.2656 - acc: 0.8867 - val_loss: 0.5525 - val_acc: 0.7741\n"
          ],
          "name": "stdout"
        },
        {
          "output_type": "execute_result",
          "data": {
            "text/plain": [
              "<keras.engine.sequential.Sequential at 0x7f743f10b080>"
            ]
          },
          "metadata": {
            "tags": []
          },
          "execution_count": 223
        }
      ]
    }
  ]
}