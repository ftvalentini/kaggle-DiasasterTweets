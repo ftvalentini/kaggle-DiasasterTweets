{
 "cells": [
  {
   "cell_type": "code",
   "execution_count": 1,
   "metadata": {},
   "outputs": [],
   "source": [
    "import numpy as np\n",
    "import pandas as pd"
   ]
  },
  {
   "cell_type": "code",
   "execution_count": 6,
   "metadata": {},
   "outputs": [],
   "source": [
    "# read data\n",
    "test = pd.read_csv('data/raw/test.csv', encoding='latin-1')"
   ]
  },
  {
   "cell_type": "code",
   "execution_count": 9,
   "metadata": {},
   "outputs": [],
   "source": [
    "# seed\n",
    "np.random.seed(1984)"
   ]
  },
  {
   "cell_type": "code",
   "execution_count": 10,
   "metadata": {},
   "outputs": [
    {
     "data": {
      "text/html": [
       "<div>\n",
       "<style scoped>\n",
       "    .dataframe tbody tr th:only-of-type {\n",
       "        vertical-align: middle;\n",
       "    }\n",
       "\n",
       "    .dataframe tbody tr th {\n",
       "        vertical-align: top;\n",
       "    }\n",
       "\n",
       "    .dataframe thead th {\n",
       "        text-align: right;\n",
       "    }\n",
       "</style>\n",
       "<table border=\"1\" class=\"dataframe\">\n",
       "  <thead>\n",
       "    <tr style=\"text-align: right;\">\n",
       "      <th></th>\n",
       "      <th>id</th>\n",
       "      <th>keyword</th>\n",
       "      <th>location</th>\n",
       "      <th>text</th>\n",
       "    </tr>\n",
       "  </thead>\n",
       "  <tbody>\n",
       "    <tr>\n",
       "      <th>1992</th>\n",
       "      <td>6715</td>\n",
       "      <td>lava</td>\n",
       "      <td>New York, NY</td>\n",
       "      <td>Watch Steaks Being Grilled Over Molten Hot Lav...</td>\n",
       "    </tr>\n",
       "    <tr>\n",
       "      <th>1097</th>\n",
       "      <td>3614</td>\n",
       "      <td>desolation</td>\n",
       "      <td>LanÃÂ¼s</td>\n",
       "      <td>I want to be free from desolation and despair</td>\n",
       "    </tr>\n",
       "    <tr>\n",
       "      <th>3124</th>\n",
       "      <td>10356</td>\n",
       "      <td>weapons</td>\n",
       "      <td>NaN</td>\n",
       "      <td>Aug 3 1915ÂÃÃKILL 10000 WITH ROCKS.; Italia...</td>\n",
       "    </tr>\n",
       "    <tr>\n",
       "      <th>982</th>\n",
       "      <td>3250</td>\n",
       "      <td>deluged</td>\n",
       "      <td>Austin</td>\n",
       "      <td>deluged dismay so\\nsoon surrendered summer dro...</td>\n",
       "    </tr>\n",
       "    <tr>\n",
       "      <th>153</th>\n",
       "      <td>507</td>\n",
       "      <td>army</td>\n",
       "      <td>New York</td>\n",
       "      <td>SHARK ARMY Black Date Stainless Steel Quartz M...</td>\n",
       "    </tr>\n",
       "  </tbody>\n",
       "</table>\n",
       "</div>"
      ],
      "text/plain": [
       "         id     keyword      location  \\\n",
       "1992   6715        lava  New York, NY   \n",
       "1097   3614  desolation      LanÃÂ¼s   \n",
       "3124  10356     weapons           NaN   \n",
       "982    3250     deluged        Austin   \n",
       "153     507        army      New York   \n",
       "\n",
       "                                                   text  \n",
       "1992  Watch Steaks Being Grilled Over Molten Hot Lav...  \n",
       "1097      I want to be free from desolation and despair  \n",
       "3124  Aug 3 1915ÂÃÃKILL 10000 WITH ROCKS.; Italia...  \n",
       "982   deluged dismay so\\nsoon surrendered summer dro...  \n",
       "153   SHARK ARMY Black Date Stainless Steel Quartz M...  "
      ]
     },
     "execution_count": 10,
     "metadata": {},
     "output_type": "execute_result"
    }
   ],
   "source": [
    "test.sample(5)"
   ]
  },
  {
   "cell_type": "markdown",
   "metadata": {},
   "source": [
    "There are weird characters in data. We will use function `remove_bad_characters` to remove them. "
   ]
  },
  {
   "cell_type": "markdown",
   "metadata": {},
   "source": [
    "### Missing values by column"
   ]
  },
  {
   "cell_type": "code",
   "execution_count": 11,
   "metadata": {},
   "outputs": [
    {
     "name": "stdout",
     "output_type": "stream",
     "text": [
      "id             0\n",
      "keyword       26\n",
      "location    1105\n",
      "text           0\n",
      "dtype: int64\n",
      "id          0.000000\n",
      "keyword     0.007968\n",
      "location    0.338645\n",
      "text        0.000000\n",
      "dtype: float64\n"
     ]
    }
   ],
   "source": [
    "print(test.isna().sum()); print(test.isna().mean()) "
   ]
  },
  {
   "cell_type": "markdown",
   "metadata": {},
   "source": [
    "### Value counts by column"
   ]
  },
  {
   "cell_type": "code",
   "execution_count": 13,
   "metadata": {},
   "outputs": [
    {
     "name": "stdout",
     "output_type": "stream",
     "text": [
      "id          3263\n",
      "keyword      221\n",
      "location    1602\n",
      "text        3243\n",
      "dtype: int64\n",
      "\n",
      "total row number is: 3263\n"
     ]
    }
   ],
   "source": [
    "print(test.nunique()); print('\\ntotal row number is:', test.shape[0])"
   ]
  },
  {
   "cell_type": "code",
   "execution_count": 14,
   "metadata": {},
   "outputs": [
    {
     "name": "stdout",
     "output_type": "stream",
     "text": [
      "deluged               23\n",
      "demolished            22\n",
      "rubble                22\n",
      "sirens                21\n",
      "first%20responders    21\n",
      "annihilation          21\n",
      "seismic               21\n",
      "snowstorm             21\n",
      "obliteration          21\n",
      "bioterrorism          20\n",
      "survivors             20\n",
      "mayhem                20\n",
      "catastrophic          20\n",
      "dead                  20\n",
      "avalanche             20\n",
      "wild%20fires          19\n",
      "obliterated           19\n",
      "suicide%20bomber      19\n",
      "crushed               19\n",
      "obliterate            19\n",
      "Name: keyword, dtype: int64\n"
     ]
    }
   ],
   "source": [
    "print(test['keyword'].value_counts()[:20])"
   ]
  },
  {
   "cell_type": "markdown",
   "metadata": {},
   "source": [
    "### Value counts in target"
   ]
  },
  {
   "cell_type": "code",
   "execution_count": 27,
   "metadata": {},
   "outputs": [
    {
     "name": "stdout",
     "output_type": "stream",
     "text": [
      "0    0.57034\n",
      "1    0.42966\n",
      "Name: target, dtype: float64\n"
     ]
    }
   ],
   "source": [
    "print(train['target'].value_counts(normalize=True))"
   ]
  }
 ],
 "metadata": {
  "kernelspec": {
   "display_name": "Python 3",
   "language": "python",
   "name": "python3"
  },
  "language_info": {
   "codemirror_mode": {
    "name": "ipython",
    "version": 3
   },
   "file_extension": ".py",
   "mimetype": "text/x-python",
   "name": "python",
   "nbconvert_exporter": "python",
   "pygments_lexer": "ipython3",
   "version": "3.7.0"
  }
 },
 "nbformat": 4,
 "nbformat_minor": 2
}
