{
 "cells": [
  {
   "cell_type": "code",
   "execution_count": 3,
   "metadata": {},
   "outputs": [],
   "source": [
    "import numpy as np\n",
    "import pandas as pd"
   ]
  },
  {
   "cell_type": "code",
   "execution_count": 4,
   "metadata": {},
   "outputs": [],
   "source": [
    "# read data\n",
    "train = pd.read_csv('data/raw/train.csv')"
   ]
  },
  {
   "cell_type": "code",
   "execution_count": 5,
   "metadata": {},
   "outputs": [],
   "source": [
    "# seed\n",
    "np.random.seed(1984)"
   ]
  },
  {
   "cell_type": "code",
   "execution_count": 20,
   "metadata": {},
   "outputs": [
    {
     "data": {
      "text/html": [
       "<div>\n",
       "<style scoped>\n",
       "    .dataframe tbody tr th:only-of-type {\n",
       "        vertical-align: middle;\n",
       "    }\n",
       "\n",
       "    .dataframe tbody tr th {\n",
       "        vertical-align: top;\n",
       "    }\n",
       "\n",
       "    .dataframe thead th {\n",
       "        text-align: right;\n",
       "    }\n",
       "</style>\n",
       "<table border=\"1\" class=\"dataframe\">\n",
       "  <thead>\n",
       "    <tr style=\"text-align: right;\">\n",
       "      <th></th>\n",
       "      <th>id</th>\n",
       "      <th>keyword</th>\n",
       "      <th>location</th>\n",
       "      <th>text</th>\n",
       "      <th>target</th>\n",
       "    </tr>\n",
       "  </thead>\n",
       "  <tbody>\n",
       "    <tr>\n",
       "      <th>2733</th>\n",
       "      <td>3926</td>\n",
       "      <td>devastated</td>\n",
       "      <td>NaN</td>\n",
       "      <td>@MikeParrActor has confirmed on his twitter sa...</td>\n",
       "      <td>0</td>\n",
       "    </tr>\n",
       "    <tr>\n",
       "      <th>702</th>\n",
       "      <td>1010</td>\n",
       "      <td>blazing</td>\n",
       "      <td>Suitland</td>\n",
       "      <td>@OfficialTJonez Your 'Lost For Words' made me ...</td>\n",
       "      <td>0</td>\n",
       "    </tr>\n",
       "    <tr>\n",
       "      <th>672</th>\n",
       "      <td>971</td>\n",
       "      <td>blaze</td>\n",
       "      <td>Mo.City</td>\n",
       "      <td>The mixtape is coming i promise. We goin in ri...</td>\n",
       "      <td>0</td>\n",
       "    </tr>\n",
       "    <tr>\n",
       "      <th>4956</th>\n",
       "      <td>7063</td>\n",
       "      <td>meltdown</td>\n",
       "      <td>#partsunknown</td>\n",
       "      <td>THE GLOBAL ECONOMIC MELTDOWN is out! http://t....</td>\n",
       "      <td>1</td>\n",
       "    </tr>\n",
       "    <tr>\n",
       "      <th>1305</th>\n",
       "      <td>1886</td>\n",
       "      <td>burning</td>\n",
       "      <td>NaN</td>\n",
       "      <td>@JohnsonTionne except idk them?? it's really b...</td>\n",
       "      <td>0</td>\n",
       "    </tr>\n",
       "  </tbody>\n",
       "</table>\n",
       "</div>"
      ],
      "text/plain": [
       "        id     keyword       location  \\\n",
       "2733  3926  devastated            NaN   \n",
       "702   1010     blazing       Suitland   \n",
       "672    971       blaze        Mo.City   \n",
       "4956  7063    meltdown  #partsunknown   \n",
       "1305  1886     burning            NaN   \n",
       "\n",
       "                                                   text  target  \n",
       "2733  @MikeParrActor has confirmed on his twitter sa...       0  \n",
       "702   @OfficialTJonez Your 'Lost For Words' made me ...       0  \n",
       "672   The mixtape is coming i promise. We goin in ri...       0  \n",
       "4956  THE GLOBAL ECONOMIC MELTDOWN is out! http://t....       1  \n",
       "1305  @JohnsonTionne except idk them?? it's really b...       0  "
      ]
     },
     "execution_count": 20,
     "metadata": {},
     "output_type": "execute_result"
    }
   ],
   "source": [
    "train.sample(5)"
   ]
  },
  {
   "cell_type": "markdown",
   "metadata": {},
   "source": [
    "### Missing values by column"
   ]
  },
  {
   "cell_type": "code",
   "execution_count": 18,
   "metadata": {},
   "outputs": [
    {
     "name": "stdout",
     "output_type": "stream",
     "text": [
      "id             0\n",
      "keyword       61\n",
      "location    2533\n",
      "text           0\n",
      "target         0\n",
      "dtype: int64\n",
      "id          0.000000\n",
      "keyword     0.008013\n",
      "location    0.332720\n",
      "text        0.000000\n",
      "target      0.000000\n",
      "dtype: float64\n"
     ]
    }
   ],
   "source": [
    "print(train.isna().sum()); print(train.isna().mean()) "
   ]
  },
  {
   "cell_type": "markdown",
   "metadata": {},
   "source": [
    "### Value counts by column"
   ]
  },
  {
   "cell_type": "code",
   "execution_count": 23,
   "metadata": {},
   "outputs": [
    {
     "name": "stdout",
     "output_type": "stream",
     "text": [
      "id          7613\n",
      "keyword      221\n",
      "location    3341\n",
      "text        7503\n",
      "target         2\n",
      "dtype: int64\n",
      "\n",
      "total row number is: 7613\n"
     ]
    }
   ],
   "source": [
    "print(train.nunique()); print('\\ntotal row number is:', train.shape[0])"
   ]
  },
  {
   "cell_type": "code",
   "execution_count": 26,
   "metadata": {},
   "outputs": [
    {
     "name": "stdout",
     "output_type": "stream",
     "text": [
      "fatalities     45\n",
      "armageddon     42\n",
      "deluge         42\n",
      "harm           41\n",
      "damage         41\n",
      "sinking        41\n",
      "body%20bags    41\n",
      "fear           40\n",
      "siren          40\n",
      "collided       40\n",
      "windstorm      40\n",
      "outbreak       40\n",
      "twister        40\n",
      "evacuate       40\n",
      "weapons        39\n",
      "wrecked        39\n",
      "famine         39\n",
      "whirlwind      39\n",
      "flames         39\n",
      "explosion      39\n",
      "Name: keyword, dtype: int64\n"
     ]
    }
   ],
   "source": [
    "print(train['keyword'].value_counts()[:20])"
   ]
  },
  {
   "cell_type": "markdown",
   "metadata": {},
   "source": [
    "### Value counts in target"
   ]
  },
  {
   "cell_type": "code",
   "execution_count": 28,
   "metadata": {},
   "outputs": [
    {
     "name": "stdout",
     "output_type": "stream",
     "text": [
      "0    0.57034\n",
      "1    0.42966\n",
      "Name: target, dtype: float64\n"
     ]
    }
   ],
   "source": [
    "print(train['target'].value_counts(normalize=True))"
   ]
  }
 ],
 "metadata": {
  "kernelspec": {
   "display_name": "Python 3",
   "language": "python",
   "name": "python3"
  },
  "language_info": {
   "codemirror_mode": {
    "name": "ipython",
    "version": 3
   },
   "file_extension": ".py",
   "mimetype": "text/x-python",
   "name": "python",
   "nbconvert_exporter": "python",
   "pygments_lexer": "ipython3",
   "version": "3.7.0"
  }
 },
 "nbformat": 4,
 "nbformat_minor": 2
}
